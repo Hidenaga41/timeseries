{
  "nbformat": 4,
  "nbformat_minor": 0,
  "metadata": {
    "colab": {
      "name": "Timeseries1.ipynb",
      "provenance": [],
      "mount_file_id": "1sjYavNZxiJe4Sbfvpiil7Gju-v5oh0Mb",
      "authorship_tag": "ABX9TyPqrqmRtf4tE1gwR7LdUOks",
      "include_colab_link": true
    },
    "kernelspec": {
      "name": "python3",
      "display_name": "Python 3"
    }
  },
  "cells": [
    {
      "cell_type": "markdown",
      "metadata": {
        "id": "view-in-github",
        "colab_type": "text"
      },
      "source": [
        "<a href=\"https://colab.research.google.com/github/Hidenaga41/timeseries/blob/master/Timeseries1.ipynb\" target=\"_parent\"><img src=\"https://colab.research.google.com/assets/colab-badge.svg\" alt=\"Open In Colab\"/></a>"
      ]
    },
    {
      "cell_type": "markdown",
      "metadata": {
        "id": "vRc5NZg6xPDz",
        "colab_type": "text"
      },
      "source": [
        "# 1.4 加法モデルと乗法モデル\n",
        "\n",
        "何位も加工していない時系列データは傾向変動 Trend variation 季節変動 Seadonal Variation 不規則変動Irregular variation の3つの変動成分に分解できる．\n",
        "\n",
        "時系列データを3つの基本成分の合成であると考えるときに， 合成の仕方として\n",
        "加法モデル Assitive model\n",
        "乗法モデル Multiplicative model\n",
        "\n",
        "原系列データをO(t) とすると，傾向変動，季節変動，不規則変動を\n",
        "O(t) = T(t)+S(t)+I(t)\n",
        "O(t) = T(t)*S(t)*I(t)\n",
        "と洗わせる．\n",
        "\n",
        "不規則変動は，傾向変動と季節変動では表現できなかった残差に相当するものであるため，傾向変動及び，季節変動のみで原系列を復元することを考える．\n",
        "\n",
        "# 1.5 移動平均（時系列変動の平滑化）\n",
        "\n",
        "ノイズの除去には時系列変動のスムージングSmoothingを行い誤算変動をキャンセルアウトする事が有効である．\n",
        "\n",
        "## 1.5.1 平滑化\n",
        "移動平均法 Moving average method\n",
        "移動中心値法 Running median method\n",
        "がある．\n",
        "\n",
        "\n"
      ]
    },
    {
      "cell_type": "code",
      "metadata": {
        "id": "L_3TH3FHxQTQ",
        "colab_type": "code",
        "colab": {}
      },
      "source": [
        "# １．５．２ 移動平均の例\n",
        "\n",
        "https://www.mizuhobank.co.jp/market/csv/quote.csv"
      ],
      "execution_count": null,
      "outputs": []
    },
    {
      "cell_type": "code",
      "metadata": {
        "id": "WlAmtGg57_zg",
        "colab_type": "code",
        "colab": {
          "base_uri": "https://localhost:8080/",
          "height": 33
        },
        "outputId": "228add7b-2ff7-4f7f-e8bf-4e9f7872af01"
      },
      "source": [
        "import re\n",
        "import os\n",
        "import glob\n",
        "from shapely.geometry import Point\n",
        "from geopy import distance\n",
        "import json\n",
        "import pandas as pd\n",
        "import requests\n",
        "import folium\n",
        "import matplotlib.pyplot as plt\n",
        "import numpy as np\n",
        "import folium.plugins as plugins\n",
        "from google.colab import drive\n",
        "drive.mount('/content/drive')\n"
      ],
      "execution_count": 1,
      "outputs": [
        {
          "output_type": "stream",
          "text": [
            "Drive already mounted at /content/drive; to attempt to forcibly remount, call drive.mount(\"/content/drive\", force_remount=True).\n"
          ],
          "name": "stdout"
        }
      ]
    },
    {
      "cell_type": "code",
      "metadata": {
        "id": "mIOuYJDgJGZo",
        "colab_type": "code",
        "colab": {
          "base_uri": "https://localhost:8080/",
          "height": 234
        },
        "outputId": "6eb47b1f-e49c-4547-e392-c08a5be8323b"
      },
      "source": [
        "import requests\n",
        "import io\n",
        "import pandas as pd\n",
        "\n",
        "response = requests.get('https://www.mizuhobank.co.jp/market/csv/m_quote.csv')\n",
        "\n",
        "file_object = io.StringIO(response.content.decode('shift-JIS'))\n",
        "df = pd.read_csv(file_object, header=1)\n",
        "df.head()"
      ],
      "execution_count": 23,
      "outputs": [
        {
          "output_type": "execute_result",
          "data": {
            "text/html": [
              "<div>\n",
              "<style scoped>\n",
              "    .dataframe tbody tr th:only-of-type {\n",
              "        vertical-align: middle;\n",
              "    }\n",
              "\n",
              "    .dataframe tbody tr th {\n",
              "        vertical-align: top;\n",
              "    }\n",
              "\n",
              "    .dataframe thead th {\n",
              "        text-align: right;\n",
              "    }\n",
              "</style>\n",
              "<table border=\"1\" class=\"dataframe\">\n",
              "  <thead>\n",
              "    <tr style=\"text-align: right;\">\n",
              "      <th></th>\n",
              "      <th>Unnamed: 0</th>\n",
              "      <th>USD</th>\n",
              "      <th>GBP</th>\n",
              "      <th>EUR</th>\n",
              "      <th>CAD</th>\n",
              "      <th>CHF</th>\n",
              "      <th>SEK</th>\n",
              "      <th>DKK</th>\n",
              "      <th>NOK</th>\n",
              "      <th>AUD</th>\n",
              "      <th>NZD</th>\n",
              "      <th>ZAR</th>\n",
              "      <th>BHD</th>\n",
              "      <th>IDR(100)</th>\n",
              "      <th>CNY</th>\n",
              "      <th>HKD</th>\n",
              "      <th>INR</th>\n",
              "      <th>MYR</th>\n",
              "      <th>PHP</th>\n",
              "      <th>SGD</th>\n",
              "      <th>KRW(100)</th>\n",
              "      <th>THB</th>\n",
              "      <th>KWD</th>\n",
              "      <th>SAR</th>\n",
              "      <th>AED</th>\n",
              "      <th>MXN</th>\n",
              "      <th>PGK</th>\n",
              "      <th>HUF</th>\n",
              "      <th>CZK</th>\n",
              "      <th>PLN</th>\n",
              "      <th>RUB</th>\n",
              "      <th>TRY</th>\n",
              "      <th>IDR(100).1</th>\n",
              "      <th>CNY.1</th>\n",
              "      <th>MYR.1</th>\n",
              "      <th>KRW(100).1</th>\n",
              "      <th>TWD</th>\n",
              "    </tr>\n",
              "  </thead>\n",
              "  <tbody>\n",
              "    <tr>\n",
              "      <th>0</th>\n",
              "      <td>2002/4/30</td>\n",
              "      <td>131.15</td>\n",
              "      <td>189.01</td>\n",
              "      <td>115.97</td>\n",
              "      <td>82.83</td>\n",
              "      <td>79.13</td>\n",
              "      <td>12.73</td>\n",
              "      <td>15.61</td>\n",
              "      <td>15.20</td>\n",
              "      <td>70.24</td>\n",
              "      <td>58.08</td>\n",
              "      <td>11.83</td>\n",
              "      <td>348.32</td>\n",
              "      <td>*****</td>\n",
              "      <td>*****</td>\n",
              "      <td>16.82</td>\n",
              "      <td>2.69</td>\n",
              "      <td>*****</td>\n",
              "      <td>2.58</td>\n",
              "      <td>71.64</td>\n",
              "      <td>9.99</td>\n",
              "      <td>3.02</td>\n",
              "      <td>429.50</td>\n",
              "      <td>34.98</td>\n",
              "      <td>35.71</td>\n",
              "      <td>14.36</td>\n",
              "      <td>*****</td>\n",
              "      <td>*****</td>\n",
              "      <td>*****</td>\n",
              "      <td>*****</td>\n",
              "      <td>NaN</td>\n",
              "      <td>NaN</td>\n",
              "      <td>1.39</td>\n",
              "      <td>15.84</td>\n",
              "      <td>*****</td>\n",
              "      <td>9.99</td>\n",
              "      <td>3.77</td>\n",
              "    </tr>\n",
              "    <tr>\n",
              "      <th>1</th>\n",
              "      <td>2002/5/31</td>\n",
              "      <td>126.44</td>\n",
              "      <td>184.56</td>\n",
              "      <td>115.88</td>\n",
              "      <td>81.58</td>\n",
              "      <td>79.60</td>\n",
              "      <td>12.57</td>\n",
              "      <td>15.59</td>\n",
              "      <td>15.43</td>\n",
              "      <td>69.58</td>\n",
              "      <td>58.38</td>\n",
              "      <td>12.51</td>\n",
              "      <td>335.97</td>\n",
              "      <td>*****</td>\n",
              "      <td>*****</td>\n",
              "      <td>16.21</td>\n",
              "      <td>2.60</td>\n",
              "      <td>*****</td>\n",
              "      <td>2.54</td>\n",
              "      <td>70.23</td>\n",
              "      <td>10.1</td>\n",
              "      <td>2.96</td>\n",
              "      <td>417.48</td>\n",
              "      <td>33.73</td>\n",
              "      <td>34.43</td>\n",
              "      <td>13.30</td>\n",
              "      <td>*****</td>\n",
              "      <td>*****</td>\n",
              "      <td>*****</td>\n",
              "      <td>*****</td>\n",
              "      <td>NaN</td>\n",
              "      <td>NaN</td>\n",
              "      <td>1.41</td>\n",
              "      <td>15.28</td>\n",
              "      <td>*****</td>\n",
              "      <td>10.10</td>\n",
              "      <td>3.68</td>\n",
              "    </tr>\n",
              "    <tr>\n",
              "      <th>2</th>\n",
              "      <td>2002/6/28</td>\n",
              "      <td>123.53</td>\n",
              "      <td>183.00</td>\n",
              "      <td>117.83</td>\n",
              "      <td>80.64</td>\n",
              "      <td>80.09</td>\n",
              "      <td>12.94</td>\n",
              "      <td>15.86</td>\n",
              "      <td>15.92</td>\n",
              "      <td>70.29</td>\n",
              "      <td>60.48</td>\n",
              "      <td>12.22</td>\n",
              "      <td>328.37</td>\n",
              "      <td>*****</td>\n",
              "      <td>*****</td>\n",
              "      <td>15.84</td>\n",
              "      <td>2.54</td>\n",
              "      <td>*****</td>\n",
              "      <td>2.46</td>\n",
              "      <td>69.27</td>\n",
              "      <td>10.2</td>\n",
              "      <td>2.93</td>\n",
              "      <td>410.12</td>\n",
              "      <td>32.96</td>\n",
              "      <td>33.64</td>\n",
              "      <td>12.67</td>\n",
              "      <td>*****</td>\n",
              "      <td>*****</td>\n",
              "      <td>*****</td>\n",
              "      <td>*****</td>\n",
              "      <td>NaN</td>\n",
              "      <td>NaN</td>\n",
              "      <td>1.44</td>\n",
              "      <td>14.93</td>\n",
              "      <td>*****</td>\n",
              "      <td>10.20</td>\n",
              "      <td>3.66</td>\n",
              "    </tr>\n",
              "    <tr>\n",
              "      <th>3</th>\n",
              "      <td>2002/7/31</td>\n",
              "      <td>118.05</td>\n",
              "      <td>183.64</td>\n",
              "      <td>117.23</td>\n",
              "      <td>76.52</td>\n",
              "      <td>80.16</td>\n",
              "      <td>12.67</td>\n",
              "      <td>15.79</td>\n",
              "      <td>15.83</td>\n",
              "      <td>65.42</td>\n",
              "      <td>56.82</td>\n",
              "      <td>11.73</td>\n",
              "      <td>313.77</td>\n",
              "      <td>*****</td>\n",
              "      <td>*****</td>\n",
              "      <td>15.13</td>\n",
              "      <td>2.43</td>\n",
              "      <td>*****</td>\n",
              "      <td>2.34</td>\n",
              "      <td>67.35</td>\n",
              "      <td>9.98</td>\n",
              "      <td>2.86</td>\n",
              "      <td>393.79</td>\n",
              "      <td>31.49</td>\n",
              "      <td>32.15</td>\n",
              "      <td>12.07</td>\n",
              "      <td>*****</td>\n",
              "      <td>*****</td>\n",
              "      <td>*****</td>\n",
              "      <td>*****</td>\n",
              "      <td>NaN</td>\n",
              "      <td>NaN</td>\n",
              "      <td>1.34</td>\n",
              "      <td>14.26</td>\n",
              "      <td>*****</td>\n",
              "      <td>9.98</td>\n",
              "      <td>3.56</td>\n",
              "    </tr>\n",
              "    <tr>\n",
              "      <th>4</th>\n",
              "      <td>2002/8/30</td>\n",
              "      <td>119.08</td>\n",
              "      <td>183.14</td>\n",
              "      <td>116.45</td>\n",
              "      <td>75.85</td>\n",
              "      <td>79.60</td>\n",
              "      <td>12.59</td>\n",
              "      <td>15.69</td>\n",
              "      <td>15.68</td>\n",
              "      <td>64.47</td>\n",
              "      <td>55.28</td>\n",
              "      <td>11.31</td>\n",
              "      <td>316.39</td>\n",
              "      <td>*****</td>\n",
              "      <td>*****</td>\n",
              "      <td>15.27</td>\n",
              "      <td>2.46</td>\n",
              "      <td>*****</td>\n",
              "      <td>2.31</td>\n",
              "      <td>67.82</td>\n",
              "      <td>9.97</td>\n",
              "      <td>2.83</td>\n",
              "      <td>396.92</td>\n",
              "      <td>31.77</td>\n",
              "      <td>32.43</td>\n",
              "      <td>12.12</td>\n",
              "      <td>*****</td>\n",
              "      <td>*****</td>\n",
              "      <td>*****</td>\n",
              "      <td>*****</td>\n",
              "      <td>NaN</td>\n",
              "      <td>NaN</td>\n",
              "      <td>1.35</td>\n",
              "      <td>14.39</td>\n",
              "      <td>*****</td>\n",
              "      <td>9.97</td>\n",
              "      <td>3.53</td>\n",
              "    </tr>\n",
              "  </tbody>\n",
              "</table>\n",
              "</div>"
            ],
            "text/plain": [
              "  Unnamed: 0     USD     GBP     EUR  ...  CNY.1  MYR.1  KRW(100).1   TWD\n",
              "0  2002/4/30  131.15  189.01  115.97  ...  15.84  *****        9.99  3.77\n",
              "1  2002/5/31  126.44  184.56  115.88  ...  15.28  *****       10.10  3.68\n",
              "2  2002/6/28  123.53  183.00  117.83  ...  14.93  *****       10.20  3.66\n",
              "3  2002/7/31  118.05  183.64  117.23  ...  14.26  *****        9.98  3.56\n",
              "4  2002/8/30  119.08  183.14  116.45  ...  14.39  *****        9.97  3.53\n",
              "\n",
              "[5 rows x 37 columns]"
            ]
          },
          "metadata": {
            "tags": []
          },
          "execution_count": 23
        }
      ]
    },
    {
      "cell_type": "code",
      "metadata": {
        "id": "7Afw1eZxGM2Z",
        "colab_type": "code",
        "colab": {
          "base_uri": "https://localhost:8080/",
          "height": 281
        },
        "outputId": "e6cf6525-68dc-4f0b-c672-369fbdb000c0"
      },
      "source": [
        "df.USD.plot()"
      ],
      "execution_count": 24,
      "outputs": [
        {
          "output_type": "execute_result",
          "data": {
            "text/plain": [
              "<matplotlib.axes._subplots.AxesSubplot at 0x7fbcbc87cc50>"
            ]
          },
          "metadata": {
            "tags": []
          },
          "execution_count": 24
        },
        {
          "output_type": "display_data",
          "data": {
            "image/png": "[encoded data removed]",
            "text/plain": [
              "<Figure size 432x288 with 1 Axes>"
            ]
          },
          "metadata": {
            "tags": [],
            "needs_background": "light"
          }
        }
      ]
    },
    {
      "cell_type": "code",
      "metadata": {
        "id": "D6BoP7kUGMzy",
        "colab_type": "code",
        "colab": {
          "base_uri": "https://localhost:8080/",
          "height": 281
        },
        "outputId": "3af2516e-a7fd-4788-d07f-869db6562471"
      },
      "source": [
        "df.USD.plot()\n",
        "df.USD.rolling(24).mean().plot()\n",
        "df.USD.rolling(48).mean().plot()"
      ],
      "execution_count": 28,
      "outputs": [
        {
          "output_type": "execute_result",
          "data": {
            "text/plain": [
              "<matplotlib.axes._subplots.AxesSubplot at 0x7fbcbc787978>"
            ]
          },
          "metadata": {
            "tags": []
          },
          "execution_count": 28
        },
        {
          "output_type": "display_data",
          "data": {
            "image/png": "[encoded data removed]",
            "text/plain": [
              "<Figure size 432x288 with 1 Axes>"
            ]
          },
          "metadata": {
            "tags": [],
            "needs_background": "light"
          }
        }
      ]
    },
    {
      "cell_type": "code",
      "metadata": {
        "id": "Yy2RQr_G8DfV",
        "colab_type": "code",
        "colab": {
          "base_uri": "https://localhost:8080/",
          "height": 197
        },
        "outputId": "6ec5028c-826b-4dc4-a88b-6883c0fcb214"
      },
      "source": [
        "# 中心化移動平均\n",
        "\n",
        "response = requests.get('https://oku.edu.mie-u.ac.jp/~okumura/stat/data/icecream.csv')\n",
        "\n",
        "file_object = io.StringIO(response.content.decode('shift-JIS'))\n",
        "df_ice = pd.read_csv(file_object, header=1)\n",
        "df_ice.head()"
      ],
      "execution_count": 30,
      "outputs": [
        {
          "output_type": "execute_result",
          "data": {
            "text/html": [
              "<div>\n",
              "<style scoped>\n",
              "    .dataframe tbody tr th:only-of-type {\n",
              "        vertical-align: middle;\n",
              "    }\n",
              "\n",
              "    .dataframe tbody tr th {\n",
              "        vertical-align: top;\n",
              "    }\n",
              "\n",
              "    .dataframe thead th {\n",
              "        text-align: right;\n",
              "    }\n",
              "</style>\n",
              "<table border=\"1\" class=\"dataframe\">\n",
              "  <thead>\n",
              "    <tr style=\"text-align: right;\">\n",
              "      <th></th>\n",
              "      <th>年</th>\n",
              "      <th>月</th>\n",
              "      <th>アイスクリーム</th>\n",
              "    </tr>\n",
              "  </thead>\n",
              "  <tbody>\n",
              "    <tr>\n",
              "      <th>0</th>\n",
              "      <td>2003</td>\n",
              "      <td>1</td>\n",
              "      <td>331</td>\n",
              "    </tr>\n",
              "    <tr>\n",
              "      <th>1</th>\n",
              "      <td>2003</td>\n",
              "      <td>2</td>\n",
              "      <td>268</td>\n",
              "    </tr>\n",
              "    <tr>\n",
              "      <th>2</th>\n",
              "      <td>2003</td>\n",
              "      <td>3</td>\n",
              "      <td>365</td>\n",
              "    </tr>\n",
              "    <tr>\n",
              "      <th>3</th>\n",
              "      <td>2003</td>\n",
              "      <td>4</td>\n",
              "      <td>492</td>\n",
              "    </tr>\n",
              "    <tr>\n",
              "      <th>4</th>\n",
              "      <td>2003</td>\n",
              "      <td>5</td>\n",
              "      <td>632</td>\n",
              "    </tr>\n",
              "  </tbody>\n",
              "</table>\n",
              "</div>"
            ],
            "text/plain": [
              "      年  月  アイスクリーム\n",
              "0  2003  1      331\n",
              "1  2003  2      268\n",
              "2  2003  3      365\n",
              "3  2003  4      492\n",
              "4  2003  5      632"
            ]
          },
          "metadata": {
            "tags": []
          },
          "execution_count": 30
        }
      ]
    },
    {
      "cell_type": "code",
      "metadata": {
        "id": "MkOuT8Jw8czN",
        "colab_type": "code",
        "colab": {
          "base_uri": "https://localhost:8080/",
          "height": 281
        },
        "outputId": "61a1c24a-ae64-45b5-e79f-da06ed0d6a7c"
      },
      "source": [
        "df_ice['アイスクリーム'].plot()"
      ],
      "execution_count": 31,
      "outputs": [
        {
          "output_type": "execute_result",
          "data": {
            "text/plain": [
              "<matplotlib.axes._subplots.AxesSubplot at 0x7fbcbc2408d0>"
            ]
          },
          "metadata": {
            "tags": []
          },
          "execution_count": 31
        },
        {
          "output_type": "display_data",
          "data": {
            "image/png": "[encoded data removed]",
            "text/plain": [
              "<Figure size 432x288 with 1 Axes>"
            ]
          },
          "metadata": {
            "tags": [],
            "needs_background": "light"
          }
        }
      ]
    },
    {
      "cell_type": "code",
      "metadata": {
        "id": "rniZvw8DVKN4",
        "colab_type": "code",
        "colab": {}
      },
      "source": [
        "df_ma = df_ice['アイスクリーム'].rolling(12).mean().shift(-6)\n",
        "df_cma = df_ma.rolling(2).mean()"
      ],
      "execution_count": 34,
      "outputs": []
    },
    {
      "cell_type": "code",
      "metadata": {
        "id": "7KtrxdS6Visy",
        "colab_type": "code",
        "colab": {
          "base_uri": "https://localhost:8080/",
          "height": 281
        },
        "outputId": "c28962bd-dae6-454f-94f4-59acb090eef7"
      },
      "source": [
        "df_ice['アイスクリーム'].plot()\n",
        "df_ma.plot()\n",
        "df_cma.plot()"
      ],
      "execution_count": 36,
      "outputs": [
        {
          "output_type": "execute_result",
          "data": {
            "text/plain": [
              "<matplotlib.axes._subplots.AxesSubplot at 0x7fbcbc7842b0>"
            ]
          },
          "metadata": {
            "tags": []
          },
          "execution_count": 36
        },
        {
          "output_type": "display_data",
          "data": {
            "image/png": "[encoded data removed]",
            "text/plain": [
              "<Figure size 432x288 with 1 Axes>"
            ]
          },
          "metadata": {
            "tags": [],
            "needs_background": "light"
          }
        }
      ]
    },
    {
      "cell_type": "markdown",
      "metadata": {
        "id": "fDrMYABiZQvo",
        "colab_type": "text"
      },
      "source": [
        "## 1.7 季節調整 Seasonal Adjustment\n",
        "\n",
        "季節調整法の一つであるセンサス局法 Census Burean method\n",
        "\n",
        "1. 中心化移動平均を求める：T系列の作成\n",
        "2. 原系列を中心課移動平均で除した値を求め100倍する．：S*I 系列の作成\n",
        "3. 手順２ で求めた値から１２ヶ月ごとの季節指数を求める．当該指数を求めるには， 月ごとの平均値を求めた上でその和が１２００になるように調整する．：S系列の作成\n",
        "4. 原系列を季節指数で割って100をかけ，季節調整済みの値をする．：T*I系列の作成\n",
        "\n",
        "\n",
        "\n",
        "\n"
      ]
    },
    {
      "cell_type": "code",
      "metadata": {
        "id": "XRN2gX1oV-B5",
        "colab_type": "code",
        "colab": {}
      },
      "source": [
        ""
      ],
      "execution_count": null,
      "outputs": []
    }
  ]
}