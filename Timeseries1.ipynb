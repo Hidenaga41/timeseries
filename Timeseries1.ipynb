{
  "nbformat": 4,
  "nbformat_minor": 0,
  "metadata": {
    "colab": {
      "name": "Timeseries1.ipynb",
      "provenance": [],
      "collapsed_sections": [],
      "mount_file_id": "1sjYavNZxiJe4Sbfvpiil7Gju-v5oh0Mb",
      "authorship_tag": "ABX9TyNn/pjPPNTcC3n3KqE3MvV/",
      "include_colab_link": true
    },
    "kernelspec": {
      "name": "python3",
      "display_name": "Python 3"
    }
  },
  "cells": [
    {
      "cell_type": "markdown",
      "metadata": {
        "id": "view-in-github",
        "colab_type": "text"
      },
      "source": [
        "<a href=\"https://colab.research.google.com/github/Hidenaga41/timeseries/blob/master/Timeseries1.ipynb\" target=\"_parent\"><img src=\"https://colab.research.google.com/assets/colab-badge.svg\" alt=\"Open In Colab\"/></a>"
      ]
    },
    {
      "cell_type": "markdown",
      "metadata": {
        "id": "vRc5NZg6xPDz",
        "colab_type": "text"
      },
      "source": [
        "# 1.4 加法モデルと乗法モデル\n",
        "\n",
        "何位も加工していない時系列データは傾向変動 Trend variation 季節変動 Seadonal Variation 不規則変動Irregular variation の3つの変動成分に分解できる．\n",
        "\n",
        "時系列データを3つの基本成分の合成であると考えるときに， 合成の仕方として\n",
        "加法モデル Assitive model\n",
        "乗法モデル Multiplicative model\n",
        "\n",
        "原系列データをO(t) とすると，傾向変動，季節変動，不規則変動を\n",
        "O(t) = T(t)+S(t)+I(t)\n",
        "O(t) = T(t)*S(t)*I(t)\n",
        "と洗わせる．\n",
        "\n",
        "不規則変動は，傾向変動と季節変動では表現できなかった残差に相当するものであるため，傾向変動及び，季節変動のみで原系列を復元することを考える．\n",
        "\n",
        "# 1.5 移動平均（時系列変動の平滑化）\n",
        "\n",
        "ノイズの除去には時系列変動のスムージングSmoothingを行い誤算変動をキャンセルアウトする事が有効である．\n",
        "\n",
        "## 1.5.1 平滑化\n",
        "移動平均法 Moving average method\n",
        "移動中心値法 Running median method\n",
        "がある．\n",
        "\n",
        "\n"
      ]
    },
    {
      "cell_type": "code",
      "metadata": {
        "id": "L_3TH3FHxQTQ",
        "colab_type": "code",
        "colab": {}
      },
      "source": [
        "# １．５．２ 移動平均の例\n",
        "\n",
        "https://www.mizuhobank.co.jp/market/csv/quote.csv"
      ],
      "execution_count": null,
      "outputs": []
    },
    {
      "cell_type": "code",
      "metadata": {
        "id": "WlAmtGg57_zg",
        "colab_type": "code",
        "colab": {
          "base_uri": "https://localhost:8080/",
          "height": 34
        },
        "outputId": "228add7b-2ff7-4f7f-e8bf-4e9f7872af01"
      },
      "source": [
        "import re\n",
        "import os\n",
        "import glob\n",
        "from shapely.geometry import Point\n",
        "from geopy import distance\n",
        "import json\n",
        "import pandas as pd\n",
        "import requests\n",
        "import folium\n",
        "import matplotlib.pyplot as plt\n",
        "import numpy as np\n",
        "import folium.plugins as plugins\n",
        "from google.colab import drive\n",
        "drive.mount('/content/drive')\n"
      ],
      "execution_count": null,
      "outputs": [
        {
          "output_type": "stream",
          "text": [
            "Drive already mounted at /content/drive; to attempt to forcibly remount, call drive.mount(\"/content/drive\", force_remount=True).\n"
          ],
          "name": "stdout"
        }
      ]
    },
    {
      "cell_type": "code",
      "metadata": {
        "id": "mIOuYJDgJGZo",
        "colab_type": "code",
        "colab": {
          "base_uri": "https://localhost:8080/",
          "height": 241
        },
        "outputId": "6eb47b1f-e49c-4547-e392-c08a5be8323b"
      },
      "source": [
        "import requests\n",
        "import io\n",
        "import pandas as pd\n",
        "\n",
        "response = requests.get('https://www.mizuhobank.co.jp/market/csv/m_quote.csv')\n",
        "\n",
        "file_object = io.StringIO(response.content.decode('shift-JIS'))\n",
        "df = pd.read_csv(file_object, header=1)\n",
        "df.head()"
      ],
      "execution_count": null,
      "outputs": [
        {
          "output_type": "execute_result",
          "data": {
            "text/html": [
              "<div>\n",
              "<style scoped>\n",
              "    .dataframe tbody tr th:only-of-type {\n",
              "        vertical-align: middle;\n",
              "    }\n",
              "\n",
              "    .dataframe tbody tr th {\n",
              "        vertical-align: top;\n",
              "    }\n",
              "\n",
              "    .dataframe thead th {\n",
              "        text-align: right;\n",
              "    }\n",
              "</style>\n",
              "<table border=\"1\" class=\"dataframe\">\n",
              "  <thead>\n",
              "    <tr style=\"text-align: right;\">\n",
              "      <th></th>\n",
              "      <th>Unnamed: 0</th>\n",
              "      <th>USD</th>\n",
              "      <th>GBP</th>\n",
              "      <th>EUR</th>\n",
              "      <th>CAD</th>\n",
              "      <th>CHF</th>\n",
              "      <th>SEK</th>\n",
              "      <th>DKK</th>\n",
              "      <th>NOK</th>\n",
              "      <th>AUD</th>\n",
              "      <th>NZD</th>\n",
              "      <th>ZAR</th>\n",
              "      <th>BHD</th>\n",
              "      <th>IDR(100)</th>\n",
              "      <th>CNY</th>\n",
              "      <th>HKD</th>\n",
              "      <th>INR</th>\n",
              "      <th>MYR</th>\n",
              "      <th>PHP</th>\n",
              "      <th>SGD</th>\n",
              "      <th>KRW(100)</th>\n",
              "      <th>THB</th>\n",
              "      <th>KWD</th>\n",
              "      <th>SAR</th>\n",
              "      <th>AED</th>\n",
              "      <th>MXN</th>\n",
              "      <th>PGK</th>\n",
              "      <th>HUF</th>\n",
              "      <th>CZK</th>\n",
              "      <th>PLN</th>\n",
              "      <th>RUB</th>\n",
              "      <th>TRY</th>\n",
              "      <th>IDR(100).1</th>\n",
              "      <th>CNY.1</th>\n",
              "      <th>MYR.1</th>\n",
              "      <th>KRW(100).1</th>\n",
              "      <th>TWD</th>\n",
              "    </tr>\n",
              "  </thead>\n",
              "  <tbody>\n",
              "    <tr>\n",
              "      <th>0</th>\n",
              "      <td>2002/4/30</td>\n",
              "      <td>131.15</td>\n",
              "      <td>189.01</td>\n",
              "      <td>115.97</td>\n",
              "      <td>82.83</td>\n",
              "      <td>79.13</td>\n",
              "      <td>12.73</td>\n",
              "      <td>15.61</td>\n",
              "      <td>15.20</td>\n",
              "      <td>70.24</td>\n",
              "      <td>58.08</td>\n",
              "      <td>11.83</td>\n",
              "      <td>348.32</td>\n",
              "      <td>*****</td>\n",
              "      <td>*****</td>\n",
              "      <td>16.82</td>\n",
              "      <td>2.69</td>\n",
              "      <td>*****</td>\n",
              "      <td>2.58</td>\n",
              "      <td>71.64</td>\n",
              "      <td>9.99</td>\n",
              "      <td>3.02</td>\n",
              "      <td>429.50</td>\n",
              "      <td>34.98</td>\n",
              "      <td>35.71</td>\n",
              "      <td>14.36</td>\n",
              "      <td>*****</td>\n",
              "      <td>*****</td>\n",
              "      <td>*****</td>\n",
              "      <td>*****</td>\n",
              "      <td>NaN</td>\n",
              "      <td>NaN</td>\n",
              "      <td>1.39</td>\n",
              "      <td>15.84</td>\n",
              "      <td>*****</td>\n",
              "      <td>9.99</td>\n",
              "      <td>3.77</td>\n",
              "    </tr>\n",
              "    <tr>\n",
              "      <th>1</th>\n",
              "      <td>2002/5/31</td>\n",
              "      <td>126.44</td>\n",
              "      <td>184.56</td>\n",
              "      <td>115.88</td>\n",
              "      <td>81.58</td>\n",
              "      <td>79.60</td>\n",
              "      <td>12.57</td>\n",
              "      <td>15.59</td>\n",
              "      <td>15.43</td>\n",
              "      <td>69.58</td>\n",
              "      <td>58.38</td>\n",
              "      <td>12.51</td>\n",
              "      <td>335.97</td>\n",
              "      <td>*****</td>\n",
              "      <td>*****</td>\n",
              "      <td>16.21</td>\n",
              "      <td>2.60</td>\n",
              "      <td>*****</td>\n",
              "      <td>2.54</td>\n",
              "      <td>70.23</td>\n",
              "      <td>10.1</td>\n",
              "      <td>2.96</td>\n",
              "      <td>417.48</td>\n",
              "      <td>33.73</td>\n",
              "      <td>34.43</td>\n",
              "      <td>13.30</td>\n",
              "      <td>*****</td>\n",
              "      <td>*****</td>\n",
              "      <td>*****</td>\n",
              "      <td>*****</td>\n",
              "      <td>NaN</td>\n",
              "      <td>NaN</td>\n",
              "      <td>1.41</td>\n",
              "      <td>15.28</td>\n",
              "      <td>*****</td>\n",
              "      <td>10.10</td>\n",
              "      <td>3.68</td>\n",
              "    </tr>\n",
              "    <tr>\n",
              "      <th>2</th>\n",
              "      <td>2002/6/28</td>\n",
              "      <td>123.53</td>\n",
              "      <td>183.00</td>\n",
              "      <td>117.83</td>\n",
              "      <td>80.64</td>\n",
              "      <td>80.09</td>\n",
              "      <td>12.94</td>\n",
              "      <td>15.86</td>\n",
              "      <td>15.92</td>\n",
              "      <td>70.29</td>\n",
              "      <td>60.48</td>\n",
              "      <td>12.22</td>\n",
              "      <td>328.37</td>\n",
              "      <td>*****</td>\n",
              "      <td>*****</td>\n",
              "      <td>15.84</td>\n",
              "      <td>2.54</td>\n",
              "      <td>*****</td>\n",
              "      <td>2.46</td>\n",
              "      <td>69.27</td>\n",
              "      <td>10.2</td>\n",
              "      <td>2.93</td>\n",
              "      <td>410.12</td>\n",
              "      <td>32.96</td>\n",
              "      <td>33.64</td>\n",
              "      <td>12.67</td>\n",
              "      <td>*****</td>\n",
              "      <td>*****</td>\n",
              "      <td>*****</td>\n",
              "      <td>*****</td>\n",
              "      <td>NaN</td>\n",
              "      <td>NaN</td>\n",
              "      <td>1.44</td>\n",
              "      <td>14.93</td>\n",
              "      <td>*****</td>\n",
              "      <td>10.20</td>\n",
              "      <td>3.66</td>\n",
              "    </tr>\n",
              "    <tr>\n",
              "      <th>3</th>\n",
              "      <td>2002/7/31</td>\n",
              "      <td>118.05</td>\n",
              "      <td>183.64</td>\n",
              "      <td>117.23</td>\n",
              "      <td>76.52</td>\n",
              "      <td>80.16</td>\n",
              "      <td>12.67</td>\n",
              "      <td>15.79</td>\n",
              "      <td>15.83</td>\n",
              "      <td>65.42</td>\n",
              "      <td>56.82</td>\n",
              "      <td>11.73</td>\n",
              "      <td>313.77</td>\n",
              "      <td>*****</td>\n",
              "      <td>*****</td>\n",
              "      <td>15.13</td>\n",
              "      <td>2.43</td>\n",
              "      <td>*****</td>\n",
              "      <td>2.34</td>\n",
              "      <td>67.35</td>\n",
              "      <td>9.98</td>\n",
              "      <td>2.86</td>\n",
              "      <td>393.79</td>\n",
              "      <td>31.49</td>\n",
              "      <td>32.15</td>\n",
              "      <td>12.07</td>\n",
              "      <td>*****</td>\n",
              "      <td>*****</td>\n",
              "      <td>*****</td>\n",
              "      <td>*****</td>\n",
              "      <td>NaN</td>\n",
              "      <td>NaN</td>\n",
              "      <td>1.34</td>\n",
              "      <td>14.26</td>\n",
              "      <td>*****</td>\n",
              "      <td>9.98</td>\n",
              "      <td>3.56</td>\n",
              "    </tr>\n",
              "    <tr>\n",
              "      <th>4</th>\n",
              "      <td>2002/8/30</td>\n",
              "      <td>119.08</td>\n",
              "      <td>183.14</td>\n",
              "      <td>116.45</td>\n",
              "      <td>75.85</td>\n",
              "      <td>79.60</td>\n",
              "      <td>12.59</td>\n",
              "      <td>15.69</td>\n",
              "      <td>15.68</td>\n",
              "      <td>64.47</td>\n",
              "      <td>55.28</td>\n",
              "      <td>11.31</td>\n",
              "      <td>316.39</td>\n",
              "      <td>*****</td>\n",
              "      <td>*****</td>\n",
              "      <td>15.27</td>\n",
              "      <td>2.46</td>\n",
              "      <td>*****</td>\n",
              "      <td>2.31</td>\n",
              "      <td>67.82</td>\n",
              "      <td>9.97</td>\n",
              "      <td>2.83</td>\n",
              "      <td>396.92</td>\n",
              "      <td>31.77</td>\n",
              "      <td>32.43</td>\n",
              "      <td>12.12</td>\n",
              "      <td>*****</td>\n",
              "      <td>*****</td>\n",
              "      <td>*****</td>\n",
              "      <td>*****</td>\n",
              "      <td>NaN</td>\n",
              "      <td>NaN</td>\n",
              "      <td>1.35</td>\n",
              "      <td>14.39</td>\n",
              "      <td>*****</td>\n",
              "      <td>9.97</td>\n",
              "      <td>3.53</td>\n",
              "    </tr>\n",
              "  </tbody>\n",
              "</table>\n",
              "</div>"
            ],
            "text/plain": [
              "  Unnamed: 0     USD     GBP     EUR  ...  CNY.1  MYR.1  KRW(100).1   TWD\n",
              "0  2002/4/30  131.15  189.01  115.97  ...  15.84  *****        9.99  3.77\n",
              "1  2002/5/31  126.44  184.56  115.88  ...  15.28  *****       10.10  3.68\n",
              "2  2002/6/28  123.53  183.00  117.83  ...  14.93  *****       10.20  3.66\n",
              "3  2002/7/31  118.05  183.64  117.23  ...  14.26  *****        9.98  3.56\n",
              "4  2002/8/30  119.08  183.14  116.45  ...  14.39  *****        9.97  3.53\n",
              "\n",
              "[5 rows x 37 columns]"
            ]
          },
          "metadata": {
            "tags": []
          },
          "execution_count": 23
        }
      ]
    },
    {
      "cell_type": "code",
      "metadata": {
        "id": "7Afw1eZxGM2Z",
        "colab_type": "code",
        "colab": {
          "base_uri": "https://localhost:8080/",
          "height": 282
        },
        "outputId": "e6cf6525-68dc-4f0b-c672-369fbdb000c0"
      },
      "source": [
        "df.USD.plot()"
      ],
      "execution_count": null,
      "outputs": [
        {
          "output_type": "execute_result",
          "data": {
            "text/plain": [
              "<matplotlib.axes._subplots.AxesSubplot at 0x7fbcbc87cc50>"
            ]
          },
          "metadata": {
            "tags": []
          },
          "execution_count": 24
        },
        {
          "output_type": "display_data",
          "data": {
            "image/png": "[encoded data removed]",
            "text/plain": [
              "<Figure size 432x288 with 1 Axes>"
            ]
          },
          "metadata": {
            "tags": [],
            "needs_background": "light"
          }
        }
      ]
    },
    {
      "cell_type": "code",
      "metadata": {
        "id": "D6BoP7kUGMzy",
        "colab_type": "code",
        "colab": {
          "base_uri": "https://localhost:8080/",
          "height": 282
        },
        "outputId": "3af2516e-a7fd-4788-d07f-869db6562471"
      },
      "source": [
        "df.USD.plot()\n",
        "df.USD.rolling(24).mean().plot()\n",
        "df.USD.rolling(48).mean().plot()"
      ],
      "execution_count": null,
      "outputs": [
        {
          "output_type": "execute_result",
          "data": {
            "text/plain": [
              "<matplotlib.axes._subplots.AxesSubplot at 0x7fbcbc787978>"
            ]
          },
          "metadata": {
            "tags": []
          },
          "execution_count": 28
        },
        {
          "output_type": "display_data",
          "data": {
            "image/png": "[encoded data removed]",
            "text/plain": [
              "<Figure size 432x288 with 1 Axes>"
            ]
          },
          "metadata": {
            "tags": [],
            "needs_background": "light"
          }
        }
      ]
    },
    {
      "cell_type": "code",
      "metadata": {
        "id": "Yy2RQr_G8DfV",
        "colab_type": "code",
        "colab": {
          "base_uri": "https://localhost:8080/",
          "height": 204
        },
        "outputId": "6ec5028c-826b-4dc4-a88b-6883c0fcb214"
      },
      "source": [
        "# 中心化移動平均\n",
        "\n",
        "response = requests.get('https://oku.edu.mie-u.ac.jp/~okumura/stat/data/icecream.csv')\n",
        "\n",
        "file_object = io.StringIO(response.content.decode('shift-JIS'))\n",
        "df_ice = pd.read_csv(file_object, header=1)\n",
        "df_ice.head()"
      ],
      "execution_count": null,
      "outputs": [
        {
          "output_type": "execute_result",
          "data": {
            "text/html": [
              "<div>\n",
              "<style scoped>\n",
              "    .dataframe tbody tr th:only-of-type {\n",
              "        vertical-align: middle;\n",
              "    }\n",
              "\n",
              "    .dataframe tbody tr th {\n",
              "        vertical-align: top;\n",
              "    }\n",
              "\n",
              "    .dataframe thead th {\n",
              "        text-align: right;\n",
              "    }\n",
              "</style>\n",
              "<table border=\"1\" class=\"dataframe\">\n",
              "  <thead>\n",
              "    <tr style=\"text-align: right;\">\n",
              "      <th></th>\n",
              "      <th>年</th>\n",
              "      <th>月</th>\n",
              "      <th>アイスクリーム</th>\n",
              "    </tr>\n",
              "  </thead>\n",
              "  <tbody>\n",
              "    <tr>\n",
              "      <th>0</th>\n",
              "      <td>2003</td>\n",
              "      <td>1</td>\n",
              "      <td>331</td>\n",
              "    </tr>\n",
              "    <tr>\n",
              "      <th>1</th>\n",
              "      <td>2003</td>\n",
              "      <td>2</td>\n",
              "      <td>268</td>\n",
              "    </tr>\n",
              "    <tr>\n",
              "      <th>2</th>\n",
              "      <td>2003</td>\n",
              "      <td>3</td>\n",
              "      <td>365</td>\n",
              "    </tr>\n",
              "    <tr>\n",
              "      <th>3</th>\n",
              "      <td>2003</td>\n",
              "      <td>4</td>\n",
              "      <td>492</td>\n",
              "    </tr>\n",
              "    <tr>\n",
              "      <th>4</th>\n",
              "      <td>2003</td>\n",
              "      <td>5</td>\n",
              "      <td>632</td>\n",
              "    </tr>\n",
              "  </tbody>\n",
              "</table>\n",
              "</div>"
            ],
            "text/plain": [
              "      年  月  アイスクリーム\n",
              "0  2003  1      331\n",
              "1  2003  2      268\n",
              "2  2003  3      365\n",
              "3  2003  4      492\n",
              "4  2003  5      632"
            ]
          },
          "metadata": {
            "tags": []
          },
          "execution_count": 30
        }
      ]
    },
    {
      "cell_type": "code",
      "metadata": {
        "id": "MkOuT8Jw8czN",
        "colab_type": "code",
        "colab": {
          "base_uri": "https://localhost:8080/",
          "height": 282
        },
        "outputId": "61a1c24a-ae64-45b5-e79f-da06ed0d6a7c"
      },
      "source": [
        "df_ice['アイスクリーム'].plot()"
      ],
      "execution_count": null,
      "outputs": [
        {
          "output_type": "execute_result",
          "data": {
            "text/plain": [
              "<matplotlib.axes._subplots.AxesSubplot at 0x7fbcbc2408d0>"
            ]
          },
          "metadata": {
            "tags": []
          },
          "execution_count": 31
        },
        {
          "output_type": "display_data",
          "data": {
            "image/png": "[encoded data removed]",
            "text/plain": [
              "<Figure size 432x288 with 1 Axes>"
            ]
          },
          "metadata": {
            "tags": [],
            "needs_background": "light"
          }
        }
      ]
    },
    {
      "cell_type": "code",
      "metadata": {
        "id": "rniZvw8DVKN4",
        "colab_type": "code",
        "colab": {
          "base_uri": "https://localhost:8080/",
          "height": 221
        },
        "outputId": "e613038e-435d-43b5-8593-4b0b26a2b509"
      },
      "source": [
        "df_ma = df_ice['アイスクリーム'].rolling(12).mean().shift(-6)\n",
        "df_cma = df_ma.rolling(window=2).mean()\n",
        "df_cma"
      ],
      "execution_count": null,
      "outputs": [
        {
          "output_type": "execute_result",
          "data": {
            "text/plain": [
              "0     NaN\n",
              "1     NaN\n",
              "2     NaN\n",
              "3     NaN\n",
              "4     NaN\n",
              "       ..\n",
              "115   NaN\n",
              "116   NaN\n",
              "117   NaN\n",
              "118   NaN\n",
              "119   NaN\n",
              "Name: アイスクリーム, Length: 120, dtype: float64"
            ]
          },
          "metadata": {
            "tags": []
          },
          "execution_count": 41
        }
      ]
    },
    {
      "cell_type": "code",
      "metadata": {
        "id": "pXGYjb8IcbPr",
        "colab_type": "code",
        "colab": {
          "base_uri": "https://localhost:8080/",
          "height": 221
        },
        "outputId": "44b274b3-88ee-4ebc-9442-8de3d5f07420"
      },
      "source": [
        "df_ma"
      ],
      "execution_count": null,
      "outputs": [
        {
          "output_type": "execute_result",
          "data": {
            "text/plain": [
              "0     NaN\n",
              "1     NaN\n",
              "2     NaN\n",
              "3     NaN\n",
              "4     NaN\n",
              "       ..\n",
              "115   NaN\n",
              "116   NaN\n",
              "117   NaN\n",
              "118   NaN\n",
              "119   NaN\n",
              "Name: アイスクリーム, Length: 120, dtype: float64"
            ]
          },
          "metadata": {
            "tags": []
          },
          "execution_count": 42
        }
      ]
    },
    {
      "cell_type": "code",
      "metadata": {
        "id": "7KtrxdS6Visy",
        "colab_type": "code",
        "colab": {
          "base_uri": "https://localhost:8080/",
          "height": 282
        },
        "outputId": "c28962bd-dae6-454f-94f4-59acb090eef7"
      },
      "source": [
        "df_ice['アイスクリーム'].plot()\n",
        "df_ma.plot()\n",
        "df_cma.plot()"
      ],
      "execution_count": null,
      "outputs": [
        {
          "output_type": "execute_result",
          "data": {
            "text/plain": [
              "<matplotlib.axes._subplots.AxesSubplot at 0x7fbcbc7842b0>"
            ]
          },
          "metadata": {
            "tags": []
          },
          "execution_count": 36
        },
        {
          "output_type": "display_data",
          "data": {
            "image/png": "[encoded data removed]",
            "text/plain": [
              "<Figure size 432x288 with 1 Axes>"
            ]
          },
          "metadata": {
            "tags": [],
            "needs_background": "light"
          }
        }
      ]
    },
    {
      "cell_type": "markdown",
      "metadata": {
        "id": "fDrMYABiZQvo",
        "colab_type": "text"
      },
      "source": [
        "## 1.7 季節調整 Seasonal Adjustment\n",
        "\n",
        "季節調整法の一つであるセンサス局法 Census Burean method\n",
        "\n",
        "1. 中心化移動平均を求める：T系列の作成\n",
        "2. 原系列を中心課移動平均で除した値を求め100倍する．：S*I 系列の作成\n",
        "3. 手順２ で求めた値から１２ヶ月ごとの季節指数を求める．当該指数を求めるには， 月ごとの平均値を求めた上でその和が１２００になるように調整する．：S系列の作成\n",
        "4. 原系列を季節指数で割って100をかけ，季節調整済みの値をする．：T*I系列の作成\n",
        "\n",
        "\n",
        "\n",
        "\n"
      ]
    },
    {
      "cell_type": "code",
      "metadata": {
        "id": "cggbpnwWcHQz",
        "colab_type": "code",
        "colab": {
          "base_uri": "https://localhost:8080/",
          "height": 221
        },
        "outputId": "010b74c2-2ab2-400c-a08c-5f17e65ed0fe"
      },
      "source": [
        "df_ice['アイスクリーム']"
      ],
      "execution_count": null,
      "outputs": [
        {
          "output_type": "execute_result",
          "data": {
            "text/plain": [
              "0       331\n",
              "1       268\n",
              "2       365\n",
              "3       492\n",
              "4       632\n",
              "       ... \n",
              "115    1332\n",
              "116     849\n",
              "117     515\n",
              "118     326\n",
              "119     414\n",
              "Name: アイスクリーム, Length: 120, dtype: int64"
            ]
          },
          "metadata": {
            "tags": []
          },
          "execution_count": 39
        }
      ]
    },
    {
      "cell_type": "code",
      "metadata": {
        "id": "KhNN7JmkcKj4",
        "colab_type": "code",
        "colab": {
          "base_uri": "https://localhost:8080/",
          "height": 221
        },
        "outputId": "c7c8fbf4-171a-4ff9-da21-d5549a0a0819"
      },
      "source": [
        "df_cma"
      ],
      "execution_count": null,
      "outputs": [
        {
          "output_type": "execute_result",
          "data": {
            "text/plain": [
              "0     NaN\n",
              "1     NaN\n",
              "2     NaN\n",
              "3     NaN\n",
              "4     NaN\n",
              "       ..\n",
              "115   NaN\n",
              "116   NaN\n",
              "117   NaN\n",
              "118   NaN\n",
              "119   NaN\n",
              "Name: アイスクリーム, Length: 120, dtype: float64"
            ]
          },
          "metadata": {
            "tags": []
          },
          "execution_count": 40
        }
      ]
    },
    {
      "cell_type": "code",
      "metadata": {
        "id": "XRN2gX1oV-B5",
        "colab_type": "code",
        "colab": {
          "base_uri": "https://localhost:8080/",
          "height": 119
        },
        "outputId": "d912dfb7-be24-4b96-f4b9-b7ba5591e120"
      },
      "source": [
        "# 原系列/ 中心化移動平均系列\n",
        "df_orig_div_cma = df_ice['アイスクリーム'] / df_cma\n",
        "df_orig_div_cma.head()"
      ],
      "execution_count": null,
      "outputs": [
        {
          "output_type": "execute_result",
          "data": {
            "text/plain": [
              "0   NaN\n",
              "1   NaN\n",
              "2   NaN\n",
              "3   NaN\n",
              "4   NaN\n",
              "Name: アイスクリーム, dtype: float64"
            ]
          },
          "metadata": {
            "tags": []
          },
          "execution_count": 38
        }
      ]
    },
    {
      "cell_type": "code",
      "metadata": {
        "id": "FCMmb8YbbYdZ",
        "colab_type": "code",
        "colab": {
          "base_uri": "https://localhost:8080/",
          "height": 374
        },
        "outputId": "7692d02d-a372-4446-f213-09cc0d243dc4"
      },
      "source": [
        "# 月ごとに加算\n",
        "orig_div_cma = df_orig_div_cma.values\n",
        "print(orig_div_cma)\n",
        "print(len(orig_div_cma))"
      ],
      "execution_count": null,
      "outputs": [
        {
          "output_type": "stream",
          "text": [
            "[       nan        nan        nan        nan        nan        nan\n",
            " 1.48418198 1.90022472 1.29613606 0.76877235 0.64653061 0.73494687\n",
            " 0.60512894 0.54151776 0.61927863 0.86126024 1.13090781 1.31190257\n",
            " 1.95848735 1.85129634 1.12327982 0.7452243  0.6131887  0.66268147\n",
            " 0.55446678 0.48621949 0.60534125 0.91394908 1.12455216 1.37597967\n",
            " 1.76098493 2.00283126 1.254314   0.77270789 0.54314247 0.62480058\n",
            " 0.56565657 0.4919189  0.66110332 0.81268524 1.0657225  1.31893322\n",
            " 1.70839125 2.08885971 1.14285714 0.86007124 0.58367111 0.67751692\n",
            " 0.60169063 0.50555475 0.65975281 0.78849408 1.10602205 1.30270691\n",
            " 1.53887437 2.16840916 1.32796951 0.79150552 0.54404254 0.68024354\n",
            " 0.57182206 0.46998028 0.66753873 0.83268698 1.14206782 1.20173566\n",
            " 1.95197138 1.96248196 1.13979381 0.78410959 0.57774463 0.66604102\n",
            " 0.56536913 0.49085386 0.62291555 0.91515883 1.22986588 1.30517928\n",
            " 1.70417964 1.92984778 1.14845456 0.7919472  0.6483871  0.70939137\n",
            " 0.57739084 0.47464661 0.58180898 0.69822559 1.13459483 1.27432287\n",
            " 1.83879539 2.20768353 1.32042792 0.77300613 0.54117949 0.65768334\n",
            " 0.53782383 0.4538079  0.52720839 0.74456084 1.0790847  1.26661329\n",
            " 2.02656698 1.99104218 1.2272     0.81915597 0.62138481 0.66855449\n",
            " 0.53909356 0.43598754 0.60566335 0.81997783 1.05468597 1.26058053\n",
            "        nan        nan        nan        nan        nan        nan]\n",
            "120\n"
          ],
          "name": "stdout"
        }
      ]
    },
    {
      "cell_type": "code",
      "metadata": {
        "id": "Ye607x45eXH8",
        "colab_type": "code",
        "colab": {
          "base_uri": "https://localhost:8080/",
          "height": 34
        },
        "outputId": "a4144694-12e6-486a-9cde-06f820d46926"
      },
      "source": [
        ""
      ],
      "execution_count": null,
      "outputs": [
        {
          "output_type": "execute_result",
          "data": {
            "text/plain": [
              "array([0., 0., 0., 0., 0., 0., 0., 0., 0., 0., 0., 0.])"
            ]
          },
          "metadata": {
            "tags": []
          },
          "execution_count": 57
        }
      ]
    },
    {
      "cell_type": "code",
      "metadata": {
        "id": "LcrHJJhbhzC3",
        "colab_type": "code",
        "colab": {
          "base_uri": "https://localhost:8080/",
          "height": 1000
        },
        "outputId": "bd5f6ac9-84be-4a4e-ce4f-dbaf48578860"
      },
      "source": [
        "s_index = np.zeros(12)\n",
        "counter = np.zeros(12, dtype='i')\n",
        "print('initial counter: ', counter)\n",
        "for idx in range(len(orig_div_cma)//12):\n",
        "  print('idx: ',idx)\n",
        "  # 12ヶ月ごとにデータを抽出\n",
        "  cut_orig_div_cma = orig_div_cma[idx*12:(idx+1)*12]\n",
        "  print('cut_orig_div_cma: ', cut_orig_div_cma)\n",
        "  mask = cut_orig_div_cma != cut_orig_div_cma\n",
        "  print(\"mask: \", mask)\n",
        "  # numpy.where を使用してNaNを０にして加算する\n",
        "  counter += np.where(mask, 0,1) # NaNじゃなければ１を足す\n",
        "  print('counter: ', counter)\n",
        "  s_index += np.where(mask, 0, cut_orig_div_cma) #NaNじゃなければ，その月の値を足す\n",
        "  print('s_index: ', s_index)"
      ],
      "execution_count": null,
      "outputs": [
        {
          "output_type": "stream",
          "text": [
            "initial counter:  [0 0 0 0 0 0 0 0 0 0 0 0]\n",
            "idx:  0\n",
            "cut_orig_div_cma:  [       nan        nan        nan        nan        nan        nan\n",
            " 1.48418198 1.90022472 1.29613606 0.76877235 0.64653061 0.73494687]\n",
            "mask:  [ True  True  True  True  True  True False False False False False False]\n",
            "counter:  [0 0 0 0 0 0 1 1 1 1 1 1]\n",
            "s_index:  [0.         0.         0.         0.         0.         0.\n",
            " 1.48418198 1.90022472 1.29613606 0.76877235 0.64653061 0.73494687]\n",
            "idx:  1\n",
            "cut_orig_div_cma:  [0.60512894 0.54151776 0.61927863 0.86126024 1.13090781 1.31190257\n",
            " 1.95848735 1.85129634 1.12327982 0.7452243  0.6131887  0.66268147]\n",
            "mask:  [False False False False False False False False False False False False]\n",
            "counter:  [1 1 1 1 1 1 2 2 2 2 2 2]\n",
            "s_index:  [0.60512894 0.54151776 0.61927863 0.86126024 1.13090781 1.31190257\n",
            " 3.44266933 3.75152106 2.41941587 1.51399665 1.25971931 1.39762834]\n",
            "idx:  2\n",
            "cut_orig_div_cma:  [0.55446678 0.48621949 0.60534125 0.91394908 1.12455216 1.37597967\n",
            " 1.76098493 2.00283126 1.254314   0.77270789 0.54314247 0.62480058]\n",
            "mask:  [False False False False False False False False False False False False]\n",
            "counter:  [2 2 2 2 2 2 3 3 3 3 3 3]\n",
            "s_index:  [1.15959572 1.02773725 1.22461988 1.77520933 2.25545997 2.68788224\n",
            " 5.20365426 5.75435231 3.67372988 2.28670453 1.80286177 2.02242892]\n",
            "idx:  3\n",
            "cut_orig_div_cma:  [0.56565657 0.4919189  0.66110332 0.81268524 1.0657225  1.31893322\n",
            " 1.70839125 2.08885971 1.14285714 0.86007124 0.58367111 0.67751692]\n",
            "mask:  [False False False False False False False False False False False False]\n",
            "counter:  [3 3 3 3 3 3 4 4 4 4 4 4]\n",
            "s_index:  [1.72525228 1.51965614 1.8857232  2.58789457 3.32118247 4.00681545\n",
            " 6.91204551 7.84321202 4.81658702 3.14677577 2.38653288 2.69994584]\n",
            "idx:  4\n",
            "cut_orig_div_cma:  [0.60169063 0.50555475 0.65975281 0.78849408 1.10602205 1.30270691\n",
            " 1.53887437 2.16840916 1.32796951 0.79150552 0.54404254 0.68024354]\n",
            "mask:  [False False False False False False False False False False False False]\n",
            "counter:  [4 4 4 4 4 4 5 5 5 5 5 5]\n",
            "s_index:  [ 2.32694291  2.0252109   2.545476    3.37638865  4.42720452  5.30952236\n",
            "  8.45091988 10.01162117  6.14455653  3.93828129  2.93057542  3.38018939]\n",
            "idx:  5\n",
            "cut_orig_div_cma:  [0.57182206 0.46998028 0.66753873 0.83268698 1.14206782 1.20173566\n",
            " 1.95197138 1.96248196 1.13979381 0.78410959 0.57774463 0.66604102]\n",
            "mask:  [False False False False False False False False False False False False]\n",
            "counter:  [5 5 5 5 5 5 6 6 6 6 6 6]\n",
            "s_index:  [ 2.89876498  2.49519118  3.21301473  4.20907563  5.56927235  6.51125801\n",
            " 10.40289126 11.97410314  7.28435035  4.72239088  3.50832005  4.04623041]\n",
            "idx:  6\n",
            "cut_orig_div_cma:  [0.56536913 0.49085386 0.62291555 0.91515883 1.22986588 1.30517928\n",
            " 1.70417964 1.92984778 1.14845456 0.7919472  0.6483871  0.70939137]\n",
            "mask:  [False False False False False False False False False False False False]\n",
            "counter:  [6 6 6 6 6 6 7 7 7 7 7 7]\n",
            "s_index:  [ 3.4641341   2.98604504  3.83593027  5.12423445  6.79913823  7.8164373\n",
            " 12.1070709  13.90395092  8.43280491  5.51433808  4.15670714  4.75562179]\n",
            "idx:  7\n",
            "cut_orig_div_cma:  [0.57739084 0.47464661 0.58180898 0.69822559 1.13459483 1.27432287\n",
            " 1.83879539 2.20768353 1.32042792 0.77300613 0.54117949 0.65768334]\n",
            "mask:  [False False False False False False False False False False False False]\n",
            "counter:  [7 7 7 7 7 7 8 8 8 8 8 8]\n",
            "s_index:  [ 4.04152495  3.46069165  4.41773925  5.82246005  7.93373306  9.09076017\n",
            " 13.94586629 16.11163445  9.75323283  6.28734422  4.69788664  5.41330512]\n",
            "idx:  8\n",
            "cut_orig_div_cma:  [0.53782383 0.4538079  0.52720839 0.74456084 1.0790847  1.26661329\n",
            " 2.02656698 1.99104218 1.2272     0.81915597 0.62138481 0.66855449]\n",
            "mask:  [False False False False False False False False False False False False]\n",
            "counter:  [8 8 8 8 8 8 9 9 9 9 9 9]\n",
            "s_index:  [ 4.57934878  3.91449956  4.94494763  6.56702088  9.01281777 10.35737346\n",
            " 15.97243327 18.10267663 10.98043283  7.10650019  5.31927144  6.08185962]\n",
            "idx:  9\n",
            "cut_orig_div_cma:  [0.53909356 0.43598754 0.60566335 0.81997783 1.05468597 1.26058053\n",
            "        nan        nan        nan        nan        nan        nan]\n",
            "mask:  [False False False False False False  True  True  True  True  True  True]\n",
            "counter:  [9 9 9 9 9 9 9 9 9 9 9 9]\n",
            "s_index:  [ 5.11844234  4.35048709  5.55061098  7.38699872 10.06750373 11.61795399\n",
            " 15.97243327 18.10267663 10.98043283  7.10650019  5.31927144  6.08185962]\n"
          ],
          "name": "stdout"
        }
      ]
    },
    {
      "cell_type": "code",
      "metadata": {
        "id": "FHW3_t-biTkY",
        "colab_type": "code",
        "colab": {}
      },
      "source": [
        "#加算結果の各月平均\n",
        "s_index /= counter "
      ],
      "execution_count": null,
      "outputs": []
    },
    {
      "cell_type": "code",
      "metadata": {
        "id": "3VaWgaYFsqAr",
        "colab_type": "code",
        "colab": {}
      },
      "source": [
        "#全体を１２００に合わせ季節指数を計算\n",
        "s_index = s_index / s_index.sum() * 1200"
      ],
      "execution_count": null,
      "outputs": []
    },
    {
      "cell_type": "code",
      "metadata": {
        "id": "QMYH2SMls0ty",
        "colab_type": "code",
        "colab": {
          "base_uri": "https://localhost:8080/",
          "height": 68
        },
        "outputId": "ee677164-7d79-499f-840d-9fe182b8f851"
      },
      "source": [
        "s_index\n",
        "\n"
      ],
      "execution_count": null,
      "outputs": [
        {
          "output_type": "execute_result",
          "data": {
            "text/plain": [
              "array([ 57.05374632,  48.4935788 ,  61.87100094,  82.34066594,\n",
              "       112.21945388, 129.50185932, 178.03993789, 201.78512364,\n",
              "       122.39560152,  79.21403276,  59.2923283 ,  67.79267067])"
            ]
          },
          "metadata": {
            "tags": []
          },
          "execution_count": 67
        }
      ]
    },
    {
      "cell_type": "code",
      "metadata": {
        "id": "hvDPxjbls31-",
        "colab_type": "code",
        "colab": {
          "base_uri": "https://localhost:8080/",
          "height": 629
        },
        "outputId": "c261d092-6f9e-43d6-a955-9995e1858537"
      },
      "source": [
        "# 季節指数を原系列の要素と対応させる\n",
        "# 原系列のスタートが１月なので， numpy.tile で１２ヶ月分の季節指数を繰り返す(np.tile)だけでよい\n",
        "tiled_s_index = np.tile(s_index, len(orig_div_cma )// 12)\n",
        "print('tiled_s_index: ', tiled_s_index)"
      ],
      "execution_count": null,
      "outputs": [
        {
          "output_type": "stream",
          "text": [
            "tiled_s_index:  [ 57.05374632  48.4935788   61.87100094  82.34066594 112.21945388\n",
            " 129.50185932 178.03993789 201.78512364 122.39560152  79.21403276\n",
            "  59.2923283   67.79267067  57.05374632  48.4935788   61.87100094\n",
            "  82.34066594 112.21945388 129.50185932 178.03993789 201.78512364\n",
            " 122.39560152  79.21403276  59.2923283   67.79267067  57.05374632\n",
            "  48.4935788   61.87100094  82.34066594 112.21945388 129.50185932\n",
            " 178.03993789 201.78512364 122.39560152  79.21403276  59.2923283\n",
            "  67.79267067  57.05374632  48.4935788   61.87100094  82.34066594\n",
            " 112.21945388 129.50185932 178.03993789 201.78512364 122.39560152\n",
            "  79.21403276  59.2923283   67.79267067  57.05374632  48.4935788\n",
            "  61.87100094  82.34066594 112.21945388 129.50185932 178.03993789\n",
            " 201.78512364 122.39560152  79.21403276  59.2923283   67.79267067\n",
            "  57.05374632  48.4935788   61.87100094  82.34066594 112.21945388\n",
            " 129.50185932 178.03993789 201.78512364 122.39560152  79.21403276\n",
            "  59.2923283   67.79267067  57.05374632  48.4935788   61.87100094\n",
            "  82.34066594 112.21945388 129.50185932 178.03993789 201.78512364\n",
            " 122.39560152  79.21403276  59.2923283   67.79267067  57.05374632\n",
            "  48.4935788   61.87100094  82.34066594 112.21945388 129.50185932\n",
            " 178.03993789 201.78512364 122.39560152  79.21403276  59.2923283\n",
            "  67.79267067  57.05374632  48.4935788   61.87100094  82.34066594\n",
            " 112.21945388 129.50185932 178.03993789 201.78512364 122.39560152\n",
            "  79.21403276  59.2923283   67.79267067  57.05374632  48.4935788\n",
            "  61.87100094  82.34066594 112.21945388 129.50185932 178.03993789\n",
            " 201.78512364 122.39560152  79.21403276  59.2923283   67.79267067]\n"
          ],
          "name": "stdout"
        },
        {
          "output_type": "execute_result",
          "data": {
            "text/plain": [
              "0      580.154716\n",
              "1      552.650488\n",
              "2      589.937118\n",
              "3      597.517635\n",
              "4      563.182210\n",
              "          ...    \n",
              "115    660.108127\n",
              "116    693.652378\n",
              "117    650.137333\n",
              "118    549.818179\n",
              "119    610.685485\n",
              "Name: アイスクリーム, Length: 120, dtype: float64"
            ]
          },
          "metadata": {
            "tags": []
          },
          "execution_count": 68
        }
      ]
    },
    {
      "cell_type": "code",
      "metadata": {
        "id": "u-oRXXrl0BVo",
        "colab_type": "code",
        "colab": {
          "base_uri": "https://localhost:8080/",
          "height": 221
        },
        "outputId": "e38fda7d-d739-429b-8ef2-368b42c84d09"
      },
      "source": [
        "# 季節調整済み系列の計算\n",
        "df_adjusted_series = df_ice['アイスクリーム'] / tiled_s_index *100\n",
        "df_adjusted_series\n"
      ],
      "execution_count": null,
      "outputs": [
        {
          "output_type": "execute_result",
          "data": {
            "text/plain": [
              "0      580.154716\n",
              "1      552.650488\n",
              "2      589.937118\n",
              "3      597.517635\n",
              "4      563.182210\n",
              "          ...    \n",
              "115    660.108127\n",
              "116    693.652378\n",
              "117    650.137333\n",
              "118    549.818179\n",
              "119    610.685485\n",
              "Name: アイスクリーム, Length: 120, dtype: float64"
            ]
          },
          "metadata": {
            "tags": []
          },
          "execution_count": 69
        }
      ]
    },
    {
      "cell_type": "code",
      "metadata": {
        "id": "0jHk3r8B0FBH",
        "colab_type": "code",
        "colab": {
          "base_uri": "https://localhost:8080/",
          "height": 282
        },
        "outputId": "ff7e114c-8750-4b75-eade-e7c7165d485d"
      },
      "source": [
        "df_ice['アイスクリーム'].plot()\n",
        "df_adjusted_series.plot()"
      ],
      "execution_count": null,
      "outputs": [
        {
          "output_type": "execute_result",
          "data": {
            "text/plain": [
              "<matplotlib.axes._subplots.AxesSubplot at 0x7fbcbad4a198>"
            ]
          },
          "metadata": {
            "tags": []
          },
          "execution_count": 70
        },
        {
          "output_type": "display_data",
          "data": {
            "image/png": "[encoded data removed]",
            "text/plain": [
              "<Figure size 432x288 with 1 Axes>"
            ]
          },
          "metadata": {
            "tags": [],
            "needs_background": "light"
          }
        }
      ]
    },
    {
      "cell_type": "code",
      "metadata": {
        "id": "H8d-lSIR0odl",
        "colab_type": "code",
        "colab": {
          "base_uri": "https://localhost:8080/",
          "height": 68
        },
        "outputId": "9257a89e-06b3-40ba-d607-a5ae2e4a6968"
      },
      "source": [
        "# 1.7.3 季節指数Seasonal Index の意味\n",
        "# 100を一年の平均値と考えた時の各月の季節効果を含んだ相対的な値\n",
        "s_index"
      ],
      "execution_count": null,
      "outputs": [
        {
          "output_type": "execute_result",
          "data": {
            "text/plain": [
              "array([ 57.05374632,  48.4935788 ,  61.87100094,  82.34066594,\n",
              "       112.21945388, 129.50185932, 178.03993789, 201.78512364,\n",
              "       122.39560152,  79.21403276,  59.2923283 ,  67.79267067])"
            ]
          },
          "metadata": {
            "tags": []
          },
          "execution_count": 71
        }
      ]
    },
    {
      "cell_type": "code",
      "metadata": {
        "id": "ObW07MB11CYf",
        "colab_type": "code",
        "colab": {
          "base_uri": "https://localhost:8080/",
          "height": 85
        },
        "outputId": "b8980639-6260-4d4a-8780-764c248b6784"
      },
      "source": [
        "month_object = 10000000/1200*s_index\n",
        "month_object"
      ],
      "execution_count": null,
      "outputs": [
        {
          "output_type": "execute_result",
          "data": {
            "text/plain": [
              "array([ 475447.88603034,  404113.15670627,  515591.67453831,\n",
              "        686172.21618252,  935162.11570716, 1079182.16103648,\n",
              "       1483666.14912336, 1681542.69696515, 1019963.34598289,\n",
              "        660116.93966424,  494102.735818  ,  564938.9222453 ])"
            ]
          },
          "metadata": {
            "tags": []
          },
          "execution_count": 72
        }
      ]
    },
    {
      "cell_type": "code",
      "metadata": {
        "id": "452e0xRh3ZtQ",
        "colab_type": "code",
        "colab": {
          "base_uri": "https://localhost:8080/",
          "height": 282
        },
        "outputId": "03a552ec-7eb0-44af-94c3-5ee7f8f25ca0"
      },
      "source": [
        "# 1.8 移動平均乖離率 Moving average deviation rate\n",
        "# 移動平均系列と原系列データとがどの程度離れているかを示す指標\n",
        "# 原系列データの上昇下降の変換点に関して知見が得られる事がある．株式など\n",
        "ma24 = df.USD.rolling(24).mean()\n",
        "diff_ma24 = (df.USD - ma24) / ma24 * 100\n",
        "diff_ma24.plot()"
      ],
      "execution_count": null,
      "outputs": [
        {
          "output_type": "execute_result",
          "data": {
            "text/plain": [
              "<matplotlib.axes._subplots.AxesSubplot at 0x7fbcbaaefa90>"
            ]
          },
          "metadata": {
            "tags": []
          },
          "execution_count": 75
        },
        {
          "output_type": "display_data",
          "data": {
            "image/png": "[encoded data removed]",
            "text/plain": [
              "<Figure size 432x288 with 1 Axes>"
            ]
          },
          "metadata": {
            "tags": [],
            "needs_background": "light"
          }
        }
      ]
    },
    {
      "cell_type": "code",
      "metadata": {
        "id": "hAuu2tl04wVA",
        "colab_type": "code",
        "colab": {
          "base_uri": "https://localhost:8080/",
          "height": 282
        },
        "outputId": "c2c2265a-130f-456b-8c9e-31056c7c3987"
      },
      "source": [
        "# １０%以上の乖離率がまれである\n",
        "diff_ma24.plot.hist()"
      ],
      "execution_count": null,
      "outputs": [
        {
          "output_type": "execute_result",
          "data": {
            "text/plain": [
              "<matplotlib.axes._subplots.AxesSubplot at 0x7fbcbaa25198>"
            ]
          },
          "metadata": {
            "tags": []
          },
          "execution_count": 77
        },
        {
          "output_type": "display_data",
          "data": {
            "image/png": "[encoded data removed]",
            "text/plain": [
              "<Figure size 432x288 with 1 Axes>"
            ]
          },
          "metadata": {
            "tags": [],
            "needs_background": "light"
          }
        }
      ]
    },
    {
      "cell_type": "markdown",
      "metadata": {
        "id": "EovLXM-i5P_G",
        "colab_type": "text"
      },
      "source": [
        "# １．９ 時系列データの基本統計量と前処理\n",
        "\n",
        "## １．９．１ 基本統計量\n",
        "最も基本的な期待値Expected value もしくは平均meanである．\n",
        "ytの期待値はE[yt] である．\n",
        "ytが期待値から平均的にどの程度ばらつくかの度合いを表す統計量の一つが分散である．\n",
        "ytの分散Varianceは，より性格には期待値を用いてE[(yt-μt)^2]で定義されVar［yt］と表記する\n",
        "また，分散の平方根は標準偏差Standard Deviatio と呼ぶ．金融ではボラティリティVolatilityと呼ぶ事が多く， リスク計測する指標として用いられる．\n",
        "\n",
        "自己共分散Autocovarianceは時系列解析に特有の統計量である．\n",
        "２つの確立変数が同一の時系列データの要素である事を除くと， 通常の共分散Covarianceと何ら変わらない．\n",
        "例えば，一次の自己共分散が正であれば，一時点離れたデータは期待値を基準として同じ方向に動く傾向がある．\n",
        "\n",
        "また， 自己共分散をkの関数として見たものは自己共分散関数と呼ばれる．分散共分散行列 Variance-Covariance matrixの性質より， 自己共分散関数は（半）正定値Positive（Semi)definiteになることが知られている．\n",
        "\n",
        "自己共分散の一つの問題点は値が単位に依存してしまう事である．したがって，自己共分散の値によって変数間の関係の強弱を測ることはできない．そこkで，値が単位に依存しないように自己共分散を基準課したものが，自己相関係数Autocorrelation coefficientである．\n",
        "\n",
        "自己相関係数をkの関数として見ると，自己相関関数とよばれ，自己相関関数をグラフに書くとCorrelogramと呼ばれる．\n",
        "\n",
        "将来の予測をする際に， 時系列解析では確率過程Stochastic processを導入する．\n",
        "時系列データはあるか売りつ変数列からの一つの実現値であるとみなす．\n",
        "時系列解析では，確立課程の構造を時系列モデルと呼ぶ\n",
        "\n",
        "##  １．９．２ データ変換\n",
        "\n",
        "- 対数系列\n",
        "- 差分系列\n",
        "- 対数差分系列\n",
        "\n",
        "## １．９．３ 欠損データ\n",
        "\n",
        "欠損値補完の方法として，以下の方法が使われている．\n",
        "- 一時点前の値による補完\n",
        "- 線形補完\n",
        "- 両側N個のデータの平均値に夜補完\n",
        "- 両側Nこのデータのメジアンによる補完\n",
        "- スプライン関数に夜補完\n",
        "\n"
      ]
    },
    {
      "cell_type": "markdown",
      "metadata": {
        "id": "fiSkslXpHqL2",
        "colab_type": "text"
      },
      "source": [
        "## １．９．４ 統計的仮説検定　Satatisical Hypothesis testing\n",
        "\n",
        "同時に起こることのない（互いに背反）な２つの仮説（帰無仮説Null Hypothesisiと対立仮説Alternative hypothesis)を立て，データに基づいてどちらかの仮設おｗ受容するかを判断する方法である．\n",
        "- 第一種過誤 Type1 error，α Error ： 帰無仮説が正しいにも関わらず，帰無仮説を棄却する誤り，\n",
        "- 第二種過誤， Type2 Error, β Error : 帰無仮説が正しくないにも関わらず，帰無仮説を受容する誤り，\n",
        "\n",
        "この第一種過誤の確立に対する水準を優位水準Signnificance level と呼ぶ．\n",
        "統計ソフトでは， 帰無仮説の需要棄却の判断をしない代わりに， 第一種過誤の確立である， ｐ値 を出力する． ある優位水準で統計的仮説検定を行うには， p値と有意水準の大小を比較する． ｐ値が有意水準より小さければ， 帰無仮説を棄却し， 対立仮説を受容する．\n",
        "ここでは， Shapiro-wilk testを用いてデータが正規分布に従っているかを検定する．\n",
        "帰無仮説：対象データが正規分布にしたがう\n",
        "\n",
        "階差を取らない場合は，トレンドを含んでいるため正規分布にならず， 一次階差をとると正規分布に近くなる．\n",
        "有意水準は５%"
      ]
    },
    {
      "cell_type": "code",
      "metadata": {
        "id": "QfjNbhha5BRy",
        "colab_type": "code",
        "colab": {
          "base_uri": "https://localhost:8080/",
          "height": 282
        },
        "outputId": "0ff50c98-2eef-41d4-fcfa-7177ed4315a8"
      },
      "source": [
        " # 原系列のヒストグラム表示\n",
        " df.USD.plot.hist()"
      ],
      "execution_count": null,
      "outputs": [
        {
          "output_type": "execute_result",
          "data": {
            "text/plain": [
              "<matplotlib.axes._subplots.AxesSubplot at 0x7fbcbab2a128>"
            ]
          },
          "metadata": {
            "tags": []
          },
          "execution_count": 78
        },
        {
          "output_type": "display_data",
          "data": {
            "image/png": "[encoded data removed]",
            "text/plain": [
              "<Figure size 432x288 with 1 Axes>"
            ]
          },
          "metadata": {
            "tags": [],
            "needs_background": "light"
          }
        }
      ]
    },
    {
      "cell_type": "code",
      "metadata": {
        "id": "MuJf3-rCHUH5",
        "colab_type": "code",
        "colab": {
          "base_uri": "https://localhost:8080/",
          "height": 282
        },
        "outputId": "cf27fd79-2e38-4248-c5e6-2b4a8d8cf9ae"
      },
      "source": [
        "#一次階差 階差を取ると欠損値が生じるため， dropna()で削除\n",
        "df_diff1 = df.USD.diff().dropna()\n",
        "df_diff1.plot.hist()"
      ],
      "execution_count": null,
      "outputs": [
        {
          "output_type": "execute_result",
          "data": {
            "text/plain": [
              "<matplotlib.axes._subplots.AxesSubplot at 0x7fbcbc31b588>"
            ]
          },
          "metadata": {
            "tags": []
          },
          "execution_count": 79
        },
        {
          "output_type": "display_data",
          "data": {
            "image/png": "[encoded data removed]",
            "text/plain": [
              "<Figure size 432x288 with 1 Axes>"
            ]
          },
          "metadata": {
            "tags": [],
            "needs_background": "light"
          }
        }
      ]
    },
    {
      "cell_type": "code",
      "metadata": {
        "id": "d7v39IK2JYQK",
        "colab_type": "code",
        "colab": {
          "base_uri": "https://localhost:8080/",
          "height": 51
        },
        "outputId": "755440a9-ee8e-4eb4-891c-d8405bc4c263"
      },
      "source": [
        "import scipy.stats as stats\n",
        "\n",
        "# 原系列のShapiro-wilk test (W統計量，p値)\n",
        "test1 = stats.shapiro(df.USD.values)\n",
        "print(test1)\n",
        "print(test1[1] > 0.05)"
      ],
      "execution_count": null,
      "outputs": [
        {
          "output_type": "stream",
          "text": [
            "(0.926832377910614, 5.727069929406525e-09)\n",
            "False\n"
          ],
          "name": "stdout"
        }
      ]
    },
    {
      "cell_type": "code",
      "metadata": {
        "id": "XFpqko01JsM2",
        "colab_type": "code",
        "colab": {
          "base_uri": "https://localhost:8080/",
          "height": 51
        },
        "outputId": "a1a655c3-0e8b-4b0c-d3ae-0320b2fb1955"
      },
      "source": [
        "test2 = stats.shapiro(df_diff1.values)\n",
        "print(test2)\n",
        "print(test2[1] > 0.05)"
      ],
      "execution_count": null,
      "outputs": [
        {
          "output_type": "stream",
          "text": [
            "(0.9883000254631042, 0.07201644778251648)\n",
            "True\n"
          ],
          "name": "stdout"
        }
      ]
    },
    {
      "cell_type": "code",
      "metadata": {
        "id": "xTbZSKdKKDT7",
        "colab_type": "code",
        "colab": {
          "base_uri": "https://localhost:8080/",
          "height": 119
        },
        "outputId": "d42f4da8-72df-4969-e588-e273ce20452d"
      },
      "source": [
        "# 1.9.5 時間依存性の発見\n",
        "\n",
        "import io\n",
        "import requests\n",
        "import statsmodels.api as sm\n",
        "\n",
        "url = \"https://www.analyticsvidhya.com/wp-content/uploads/2016/02/AirPassengers.csv\"\n",
        "stream = requests.get(url).content\n",
        "content = pd.read_csv(io.StringIO(stream.decode('utf-8')))\n",
        "passengers = content['#Passengers']\n",
        "passengers.head()"
      ],
      "execution_count": null,
      "outputs": [
        {
          "output_type": "execute_result",
          "data": {
            "text/plain": [
              "0    112\n",
              "1    118\n",
              "2    132\n",
              "3    129\n",
              "4    121\n",
              "Name: #Passengers, dtype: int64"
            ]
          },
          "metadata": {
            "tags": []
          },
          "execution_count": 91
        }
      ]
    },
    {
      "cell_type": "code",
      "metadata": {
        "id": "2hByrrcY1whQ",
        "colab_type": "code",
        "colab": {
          "base_uri": "https://localhost:8080/",
          "height": 190
        },
        "outputId": "c73342e3-0835-47cf-93d2-cb91db70c7b0"
      },
      "source": [
        "import statsmodels.api as sm\n",
        "\n",
        "#自己相関係数を計算する\n",
        "p_acf = sm.tsa.stattools.acf(passengers)\n",
        "print(p_acf)"
      ],
      "execution_count": 94,
      "outputs": [
        {
          "output_type": "stream",
          "text": [
            "[1.         0.94804734 0.87557484 0.80668116 0.75262542 0.71376997\n",
            " 0.6817336  0.66290439 0.65561048 0.67094833 0.70271992 0.74324019\n",
            " 0.76039504 0.71266087 0.64634228 0.58592342 0.53795519 0.49974753\n",
            " 0.46873401 0.44987066 0.4416288  0.45722376 0.48248203 0.51712699\n",
            " 0.53218983 0.49397569 0.43772134 0.3876029  0.34802503 0.31498388\n",
            " 0.28849682 0.27080187 0.26429011 0.27679934 0.2985215  0.32558712\n",
            " 0.3370236  0.30333486 0.25397708 0.21065534 0.17217092]\n"
          ],
          "name": "stdout"
        },
        {
          "output_type": "stream",
          "text": [
            "/usr/local/lib/python3.6/dist-packages/statsmodels/tsa/stattools.py:541: FutureWarning: fft=True will become the default in a future version of statsmodels. To suppress this warning, explicitly set fft=False.\n",
            "  warnings.warn(msg, FutureWarning)\n"
          ],
          "name": "stderr"
        }
      ]
    },
    {
      "cell_type": "code",
      "metadata": {
        "id": "RnLSY_Wj3X9P",
        "colab_type": "code",
        "colab": {
          "base_uri": "https://localhost:8080/",
          "height": 545
        },
        "outputId": "01c7e8a4-e0cf-4b6f-c02d-928bd3bb0869"
      },
      "source": [
        "sm.graphics.tsa.plot_acf(passengers, lags=40)\n",
        "\n",
        "# ラグが大きくなるほど自己相関係数の値が小さくなる．\n",
        "# 14ヶ月前までは5%を超えているため，有意に相関関係が認められる\n",
        "# しかし， 自己相関係数の計算ｎではラグ1の積み重ねによる間接的な関係がふくまれているからある．推移関係Transitive relation"
      ],
      "execution_count": 95,
      "outputs": [
        {
          "output_type": "execute_result",
          "data": {
            "image/png": "[encoded data removed]",
            "text/plain": [
              "<Figure size 432x288 with 1 Axes>"
            ]
          },
          "metadata": {
            "tags": []
          },
          "execution_count": 95
        },
        {
          "output_type": "display_data",
          "data": {
            "image/png": "[encoded data removed]",
            "text/plain": [
              "<Figure size 432x288 with 1 Axes>"
            ]
          },
          "metadata": {
            "tags": [],
            "needs_background": "light"
          }
        }
      ]
    },
    {
      "cell_type": "code",
      "metadata": {
        "id": "jZPqJaeW3-Sm",
        "colab_type": "code",
        "colab": {
          "base_uri": "https://localhost:8080/",
          "height": 136
        },
        "outputId": "9cfde2b1-1911-4fea-cc28-9925fa23c936"
      },
      "source": [
        "#推移関係を排除した自己相関係数を偏自己相関係数と呼ぶ．PARCOR．PACF，Partial autocorrelation\n",
        "p_pacf  = sm.tsa.stattools.pacf(passengers, method='ols')\n",
        "print(p_pacf)"
      ],
      "execution_count": 97,
      "outputs": [
        {
          "output_type": "stream",
          "text": [
            "[ 1.          0.95893198 -0.32983096  0.2018249   0.14500798  0.25848232\n",
            " -0.02690283  0.20433019  0.15607896  0.56860841  0.29256358  0.8402143\n",
            "  0.61268285 -0.66597616 -0.38463943  0.0787466  -0.02663483 -0.05805221\n",
            " -0.04350748  0.27732556 -0.04046447  0.13739883  0.3859958   0.24203808\n",
            " -0.04912986 -0.19599778 -0.15443575  0.04484465  0.18371541 -0.0906113\n",
            " -0.06202938  0.34827092  0.09899499 -0.08396793  0.36328898 -0.17956662\n",
            "  0.15839435  0.06376775 -0.27503705  0.2707607   0.32002003]\n"
          ],
          "name": "stdout"
        }
      ]
    },
    {
      "cell_type": "code",
      "metadata": {
        "id": "Tusgmefg6BLw",
        "colab_type": "code",
        "colab": {
          "base_uri": "https://localhost:8080/",
          "height": 545
        },
        "outputId": "cf1d60f2-2adc-4337-c079-dc2586ad3ff0"
      },
      "source": [
        "sm.graphics.tsa.plot_pacf(passengers, lags=35)"
      ],
      "execution_count": 98,
      "outputs": [
        {
          "output_type": "execute_result",
          "data": {
            "image/png": "[encoded data removed]",
            "text/plain": [
              "<Figure size 432x288 with 1 Axes>"
            ]
          },
          "metadata": {
            "tags": []
          },
          "execution_count": 98
        },
        {
          "output_type": "display_data",
          "data": {
            "image/png": "[encoded data removed]",
            "text/plain": [
              "<Figure size 432x288 with 1 Axes>"
            ]
          },
          "metadata": {
            "tags": [],
            "needs_background": "light"
          }
        }
      ]
    },
    {
      "cell_type": "code",
      "metadata": {
        "id": "fHVJP3Mb6ZkA",
        "colab_type": "code",
        "colab": {
          "base_uri": "https://localhost:8080/",
          "height": 221
        },
        "outputId": "c4c9aed2-3c62-448e-9499-f052dcf6441d"
      },
      "source": [
        "# 1.9.6 定常性\n",
        "# 強定常性， 弱定常性， 非定常性，\n",
        "\n",
        "df_logdiff_USD = (1 + df.USD.pct_change()).apply(np.log)\n",
        "print(df_logdiff_USD)"
      ],
      "execution_count": 101,
      "outputs": [
        {
          "output_type": "stream",
          "text": [
            "0           NaN\n",
            "1     -0.036574\n",
            "2     -0.023284\n",
            "3     -0.045376\n",
            "4      0.008687\n",
            "         ...   \n",
            "214    0.005470\n",
            "215   -0.022527\n",
            "216    0.003898\n",
            "217   -0.005666\n",
            "218    0.001861\n",
            "Name: USD, Length: 219, dtype: float64\n"
          ],
          "name": "stdout"
        }
      ]
    },
    {
      "cell_type": "code",
      "metadata": {
        "id": "e0W0Po959g40",
        "colab_type": "code",
        "colab": {
          "base_uri": "https://localhost:8080/",
          "height": 221
        },
        "outputId": "ae958f21-d3c7-4153-d7c1-3d39d211b660"
      },
      "source": [
        "df.USD.div(df.USD.shift(1)) - 1"
      ],
      "execution_count": 103,
      "outputs": [
        {
          "output_type": "execute_result",
          "data": {
            "text/plain": [
              "0           NaN\n",
              "1     -0.035913\n",
              "2     -0.023015\n",
              "3     -0.044362\n",
              "4      0.008725\n",
              "         ...   \n",
              "214    0.005485\n",
              "215   -0.022275\n",
              "216    0.003906\n",
              "217   -0.005650\n",
              "218    0.001863\n",
              "Name: USD, Length: 219, dtype: float64"
            ]
          },
          "metadata": {
            "tags": []
          },
          "execution_count": 103
        }
      ]
    },
    {
      "cell_type": "code",
      "metadata": {
        "id": "CxRrF9-p9qS9",
        "colab_type": "code",
        "colab": {
          "base_uri": "https://localhost:8080/",
          "height": 286
        },
        "outputId": "c101ca0a-e4ac-4597-8d35-c49e4af08770"
      },
      "source": [
        "df_logdiff_USD.plot()"
      ],
      "execution_count": 107,
      "outputs": [
        {
          "output_type": "execute_result",
          "data": {
            "text/plain": [
              "<matplotlib.axes._subplots.AxesSubplot at 0x7fbca38dd400>"
            ]
          },
          "metadata": {
            "tags": []
          },
          "execution_count": 107
        },
        {
          "output_type": "display_data",
          "data": {
            "image/png": "[encoded data removed]",
            "text/plain": [
              "<Figure size 432x288 with 1 Axes>"
            ]
          },
          "metadata": {
            "tags": [],
            "needs_background": "light"
          }
        }
      ]
    },
    {
      "cell_type": "markdown",
      "metadata": {
        "id": "mn69XUi198ho",
        "colab_type": "text"
      },
      "source": [
        "## 1.9.7 ホワイトノイズ\n",
        "弱定常課程\n",
        "\n",
        "\n",
        "多くのモデルの確率的な変動はホワイトノイズで記述される．"
      ]
    },
    {
      "cell_type": "code",
      "metadata": {
        "id": "mgkqsZYS9ymt",
        "colab_type": "code",
        "colab": {}
      },
      "source": [
        ""
      ],
      "execution_count": null,
      "outputs": []
    }
  ]
}