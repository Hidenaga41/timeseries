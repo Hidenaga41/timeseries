{
  "nbformat": 4,
  "nbformat_minor": 0,
  "metadata": {
    "colab": {
      "name": "Timeseries2.ipynb",
      "provenance": [],
      "authorship_tag": "ABX9TyOpcfaenVdPKABNQPCblskq",
      "include_colab_link": true
    },
    "kernelspec": {
      "name": "python3",
      "display_name": "Python 3"
    }
  },
  "cells": [
    {
      "cell_type": "markdown",
      "metadata": {
        "id": "view-in-github",
        "colab_type": "text"
      },
      "source": [
        "<a href=\"https://colab.research.google.com/github/Hidenaga41/timeseries/blob/master/Timeseries2.ipynb\" target=\"_parent\"><img src=\"https://colab.research.google.com/assets/colab-badge.svg\" alt=\"Open In Colab\"/></a>"
      ]
    },
    {
      "cell_type": "markdown",
      "metadata": {
        "id": "g0CAvVtRGP5z",
        "colab_type": "text"
      },
      "source": [
        "# 第二章 自己回帰型モデル\n",
        "\n",
        "## ２．１ パラメタ推定\n",
        "ynの変動を説明変数の線形和によって表現した次のモデルを線形回帰モデルRegression modelと呼ぶ．\n",
        "\n",
        "ここでは， \n",
        "\n",
        "### 2.1.1 最小二乗法\n",
        "残差が正規分布に従うと仮定した回帰モデルや時系列モデルの多くは， 最小二乗推定量 Ordinary Least Squares Estimator OLSE が最尤推定Maximum Likelihood estimator と一致したり， その良い近似値を与える． \n",
        "\n",
        "\n",
        "\n",
        "\n",
        "\n"
      ]
    },
    {
      "cell_type": "code",
      "metadata": {
        "id": "10_7qQXCGHvI",
        "colab_type": "code",
        "colab": {}
      },
      "source": [
        "import re\n",
        "import os\n",
        "import glob\n",
        "from shapely.geometry import Point\n",
        "from geopy import distance\n",
        "import json\n",
        "import pandas as pd\n",
        "import requests\n",
        "import folium\n",
        "import matplotlib.pyplot as plt\n",
        "import numpy as np\n",
        "import folium.plugins as plugins\n",
        "from google.colab import drive\n",
        "drive.mount('/content/drive')"
      ],
      "execution_count": null,
      "outputs": []
    }
  ]
}